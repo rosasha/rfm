{
 "cells": [
  {
   "cell_type": "code",
   "execution_count": 1,
   "metadata": {},
   "outputs": [],
   "source": [
    "import pandas as pd\n",
    "import numpy as np"
   ]
  },
  {
   "cell_type": "code",
   "execution_count": 2,
   "metadata": {},
   "outputs": [],
   "source": [
    "orders_1 = pd.read_csv('Выгрузка по чекам 01.01.2017_31.03.2017.csv', header=None, sep=';', low_memory=False)\n",
    "orders_2 = pd.read_csv('Выгрузка по чекам 01.04.2017_31.06.2017.csv', header=None, sep=';', low_memory=False)\n",
    "orders_3 = pd.read_csv('Выгрузка по чекам 01.07.2017_31.09.2017.csv', header=None, sep=';', low_memory=False)\n",
    "orders_4 = pd.read_csv('Выгрузка по чекам 01.10.2017_31.12.2017.csv', header=None, sep=';', low_memory=False)\n",
    "orders_5 = pd.read_csv('Выгрузка по чекам 01.01.2018_31.03.2018.csv', header=None, sep=';', low_memory=False)\n",
    "orders_6 = pd.read_csv('Выгрузка по чекам 01.04.2018_31.06.2018.csv', header=None, sep=';', low_memory=False)\n",
    "orders_7 = pd.read_csv('Выгрузка по чекам 01.07.2018_31.09.2018.csv', header=None, sep=';', low_memory=False)\n",
    "orders_8 = pd.read_csv('Выгрузка по чекам 01.10.2018_31.11.2018.csv', header=None, sep=';', low_memory=False)\n",
    "orders_9 = pd.read_csv('Выгрузка по чекам 01.12.2018_31.12.2018.csv', header=None, sep=';', low_memory=False)\n",
    "orders_10 = pd.read_csv('Выгрузка по чекам 01.01.2019_31.03.2019.csv', header=None, sep=';', low_memory=False)\n",
    "orders_11 = pd.read_csv('Выгрузка по чекам 01.06.2019_31.06.2019.csv', header=None, sep=';', low_memory=False)\n",
    "orders_12 = pd.read_csv('Выгрузка по чекам 01.07.2019_31.07.2019.csv', header=None, sep=';', low_memory=False)"
   ]
  },
  {
   "cell_type": "code",
   "execution_count": 3,
   "metadata": {},
   "outputs": [],
   "source": [
    "frames = [orders_1, orders_2, orders_3, orders_4, orders_5, orders_6, orders_7, orders_8, orders_9, orders_10, orders_11, orders_12]\n",
    "orders = pd.concat(frames)"
   ]
  },
  {
   "cell_type": "code",
   "execution_count": 4,
   "metadata": {},
   "outputs": [],
   "source": [
    "# Приведение к нужному типу данных\n",
    "orders.iloc[:, 2] = orders.iloc[:, 2].astype(dtype='Int64')\n",
    "orders.iloc[:, 4] = orders.iloc[:, 4].astype(dtype='Int64')\n",
    "orders.iloc[:, 21] = orders.iloc[:, 21].astype(dtype='Int64')"
   ]
  },
  {
   "cell_type": "code",
   "execution_count": 5,
   "metadata": {},
   "outputs": [],
   "source": [
    "# Предварительное название колонок\n",
    "orders.columns = ['ID', 'Дата покупки', 'Номер чека', 'Владелец карты', 'Номер карты', 'Уровень группы 0', 'Уровень группы 1', 'Уровень группы 2', 'Уровень группы 3', 'Уровень группы 4', 'Уровень группы 5', 'Уровень группы 6', 'Артикул', 'Магазин', 'Количество', 'Наименование', 'Скидка', 'Цена', 'Сумма', 'Подразделение', 'Хар-ка', 'Код хар-ки', 'Телефон']"
   ]
  },
  {
   "cell_type": "code",
   "execution_count": 6,
   "metadata": {},
   "outputs": [],
   "source": [
    "# Работа с типом данных \"Дата\"\n",
    "orders['Дата покупки'] = pd.to_datetime(orders['Дата покупки'], dayfirst=True)\n",
    "orders['Дата'] = pd.to_datetime(orders['Дата покупки'].dt.date)\n",
    "orders['Время'] = orders['Дата покупки'].dt.time\n",
    "# Как видим Время делаем (оставляем) в формате object\n",
    "orders = orders.drop('Дата покупки', axis=1)"
   ]
  },
  {
   "cell_type": "code",
   "execution_count": 7,
   "metadata": {},
   "outputs": [],
   "source": [
    "# Определение названий колонок и порядок следования\n",
    "orders = orders[['ID', 'Дата', 'Время', 'Номер чека', 'Владелец карты', 'Телефон', 'Номер карты', 'Магазин', 'Подразделение', 'Уровень группы 0',\n",
    "                 'Уровень группы 1', 'Уровень группы 2', 'Уровень группы 3', 'Уровень группы 4', 'Уровень группы 5', 'Уровень группы 6', 'Артикул', \n",
    "                 'Наименование', 'Хар-ка', 'Код хар-ки', 'Количество', 'Цена', 'Сумма', 'Скидка']]"
   ]
  },
  {
   "cell_type": "code",
   "execution_count": 8,
   "metadata": {},
   "outputs": [],
   "source": [
    "# Предочистка данных\n",
    "orders.dropna(subset=['Владелец карты'], inplace=True)\n",
    "orders.loc[:, 'Владелец карты'] = orders.loc[:, 'Владелец карты'].str.lstrip() # удаление пробела в начале"
   ]
  },
  {
   "cell_type": "code",
   "execution_count": 10,
   "metadata": {},
   "outputs": [],
   "source": [
    "# Выжимка данных для RFM алгоритма\n",
    "orders_rfm = orders[['Дата', 'ID', 'Владелец карты', 'Сумма']]\n",
    "orders_rfm_ext = orders[['Дата', 'ID', 'Владелец карты', 'Сумма', 'Подразделение', 'Телефон']]\n",
    "\n",
    "# Запись данных для RFM алгоритма\n",
    "orders_rfm.to_csv('first_block.csv', sep=';', index=False)\n",
    "orders_rfm_ext.to_csv('first_block_ext.csv', sep=';', index=False)\n"
   ]
  },
  {
   "cell_type": "code",
   "execution_count": null,
   "metadata": {},
   "outputs": [],
   "source": []
  }
 ],
 "metadata": {
  "kernelspec": {
   "display_name": "Python 3",
   "language": "python",
   "name": "python3"
  },
  "language_info": {
   "codemirror_mode": {
    "name": "ipython",
    "version": 3
   },
   "file_extension": ".py",
   "mimetype": "text/x-python",
   "name": "python",
   "nbconvert_exporter": "python",
   "pygments_lexer": "ipython3",
   "version": "3.7.3"
  }
 },
 "nbformat": 4,
 "nbformat_minor": 2
}
